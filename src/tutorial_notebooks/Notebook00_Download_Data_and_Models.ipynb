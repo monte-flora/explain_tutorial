{
 "cells": [
  {
   "cell_type": "markdown",
   "id": "ae6a250c",
   "metadata": {},
   "source": [
    "[![Open In Colab](https://colab.research.google.com/assets/colab-badge.svg)](http://colab.research.google.com/github/monte-flora/explain_tutorial/blob/main/src/tutorial_notebooks/Notebook00_Download_Data_and_Models.ipynb)"
   ]
  },
  {
   "cell_type": "markdown",
   "id": "49f7629a",
   "metadata": {},
   "source": [
    "### 1. Download the Data \n",
    "\n",
    "The three datasets and pre-fit machine learning models are provided at the following [link](https://doi.org/10.5281/zenodo.8136709). The following code downloads the datasets and models and unzips them. Unfortunately, the Zenodo download can take up to 10 minutes. If you are using Google Colab, then the following code will upload the data to your local Google drive. \n",
    "\n",
    "### 2. Unzip the data \n",
    "\n",
    "This step will unzip the datasets and models, which will create directory named \"datasets\" and \"models\" that  contain CSV-format datasets and the corresponding models, respectively. This will unzip the data in the same location as where the data was downloaded. We recommend transfering the data and models to another location. You'll then use those data paths for the other notebooks to load the data and models. \n"
   ]
  },
  {
   "cell_type": "code",
   "execution_count": 1,
   "id": "57df4ac0",
   "metadata": {},
   "outputs": [
    {
     "name": "stdout",
     "output_type": "stream",
     "text": [
      "Requirement already satisfied: zenodo_get in /Users/Home/opt/miniconda3/envs/skexplain/lib/python3.10/site-packages (1.6.1)\n",
      "Requirement already satisfied: PyDrive in /Users/Home/opt/miniconda3/envs/skexplain/lib/python3.10/site-packages (1.3.1)\n",
      "Requirement already satisfied: httplib2==0.15.0 in /Users/Home/opt/miniconda3/envs/skexplain/lib/python3.10/site-packages (0.15.0)\n",
      "Requirement already satisfied: requests in /Users/Home/opt/miniconda3/envs/skexplain/lib/python3.10/site-packages (from zenodo_get) (2.32.3)\n",
      "Requirement already satisfied: wget in /Users/Home/opt/miniconda3/envs/skexplain/lib/python3.10/site-packages (from zenodo_get) (3.2)\n",
      "Requirement already satisfied: humanize in /Users/Home/opt/miniconda3/envs/skexplain/lib/python3.10/site-packages (from zenodo_get) (4.10.0)\n",
      "Requirement already satisfied: google-api-python-client>=1.2 in /Users/Home/opt/miniconda3/envs/skexplain/lib/python3.10/site-packages (from PyDrive) (2.123.0)\n",
      "Requirement already satisfied: oauth2client>=4.0.0 in /Users/Home/opt/miniconda3/envs/skexplain/lib/python3.10/site-packages (from PyDrive) (4.1.3)\n",
      "Requirement already satisfied: PyYAML>=3.0 in /Users/Home/opt/miniconda3/envs/skexplain/lib/python3.10/site-packages (from PyDrive) (6.0.2)\n",
      "Requirement already satisfied: google-auth<3.0.0.dev0,>=1.19.0 in /Users/Home/opt/miniconda3/envs/skexplain/lib/python3.10/site-packages (from google-api-python-client>=1.2->PyDrive) (2.35.0)\n",
      "Requirement already satisfied: google-auth-httplib2>=0.1.0 in /Users/Home/opt/miniconda3/envs/skexplain/lib/python3.10/site-packages (from google-api-python-client>=1.2->PyDrive) (0.1.0)\n",
      "Requirement already satisfied: google-api-core!=2.0.*,!=2.1.*,!=2.2.*,!=2.3.0,<3.0.0.dev0,>=1.31.5 in /Users/Home/opt/miniconda3/envs/skexplain/lib/python3.10/site-packages (from google-api-python-client>=1.2->PyDrive) (2.20.0)\n",
      "Requirement already satisfied: uritemplate<5,>=3.0.1 in /Users/Home/opt/miniconda3/envs/skexplain/lib/python3.10/site-packages (from google-api-python-client>=1.2->PyDrive) (4.1.1)\n",
      "Requirement already satisfied: pyasn1>=0.1.7 in /Users/Home/opt/miniconda3/envs/skexplain/lib/python3.10/site-packages (from oauth2client>=4.0.0->PyDrive) (0.6.1)\n",
      "Requirement already satisfied: pyasn1-modules>=0.0.5 in /Users/Home/opt/miniconda3/envs/skexplain/lib/python3.10/site-packages (from oauth2client>=4.0.0->PyDrive) (0.4.1)\n",
      "Requirement already satisfied: rsa>=3.1.4 in /Users/Home/opt/miniconda3/envs/skexplain/lib/python3.10/site-packages (from oauth2client>=4.0.0->PyDrive) (4.9)\n",
      "Requirement already satisfied: six>=1.6.1 in /Users/Home/opt/miniconda3/envs/skexplain/lib/python3.10/site-packages (from oauth2client>=4.0.0->PyDrive) (1.16.0)\n",
      "Requirement already satisfied: charset-normalizer<4,>=2 in /Users/Home/opt/miniconda3/envs/skexplain/lib/python3.10/site-packages (from requests->zenodo_get) (3.3.2)\n",
      "Requirement already satisfied: idna<4,>=2.5 in /Users/Home/opt/miniconda3/envs/skexplain/lib/python3.10/site-packages (from requests->zenodo_get) (3.10)\n",
      "Requirement already satisfied: urllib3<3,>=1.21.1 in /Users/Home/opt/miniconda3/envs/skexplain/lib/python3.10/site-packages (from requests->zenodo_get) (2.2.3)\n",
      "Requirement already satisfied: certifi>=2017.4.17 in /Users/Home/opt/miniconda3/envs/skexplain/lib/python3.10/site-packages (from requests->zenodo_get) (2024.8.30)\n",
      "Requirement already satisfied: googleapis-common-protos<2.0.dev0,>=1.56.2 in /Users/Home/opt/miniconda3/envs/skexplain/lib/python3.10/site-packages (from google-api-core!=2.0.*,!=2.1.*,!=2.2.*,!=2.3.0,<3.0.0.dev0,>=1.31.5->google-api-python-client>=1.2->PyDrive) (1.65.0)\n",
      "Requirement already satisfied: protobuf!=3.20.0,!=3.20.1,!=4.21.0,!=4.21.1,!=4.21.2,!=4.21.3,!=4.21.4,!=4.21.5,<6.0.0.dev0,>=3.19.5 in /Users/Home/opt/miniconda3/envs/skexplain/lib/python3.10/site-packages (from google-api-core!=2.0.*,!=2.1.*,!=2.2.*,!=2.3.0,<3.0.0.dev0,>=1.31.5->google-api-python-client>=1.2->PyDrive) (5.28.2)\n",
      "Requirement already satisfied: proto-plus<2.0.0dev,>=1.22.3 in /Users/Home/opt/miniconda3/envs/skexplain/lib/python3.10/site-packages (from google-api-core!=2.0.*,!=2.1.*,!=2.2.*,!=2.3.0,<3.0.0.dev0,>=1.31.5->google-api-python-client>=1.2->PyDrive) (1.24.0)\n",
      "Requirement already satisfied: cachetools<6.0,>=2.0.0 in /Users/Home/opt/miniconda3/envs/skexplain/lib/python3.10/site-packages (from google-auth<3.0.0.dev0,>=1.19.0->google-api-python-client>=1.2->PyDrive) (5.5.0)\n",
      "Note: you may need to restart the kernel to use updated packages.\n"
     ]
    }
   ],
   "source": [
    "%pip install zenodo_get PyDrive httplib2==0.15.0"
   ]
  },
  {
   "cell_type": "code",
   "execution_count": 2,
   "id": "8a359928",
   "metadata": {},
   "outputs": [],
   "source": [
    "# Change this to your local directory. This location will store the \n",
    "# model and dataset files. \n",
    "LOCAL_BASE_PATH = '/Users/Home/tutorial_files'"
   ]
  },
  {
   "cell_type": "code",
   "execution_count": 4,
   "id": "f6c6202e",
   "metadata": {},
   "outputs": [
    {
     "name": "stdout",
     "output_type": "stream",
     "text": [
      " cp -r /Users/Home/python_packages/explain_tutorial/src/tutorial_notebooks/datasets /Users/Home/tutorial_files/datasets\n"
     ]
    }
   ],
   "source": [
    "def using_colab():\n",
    "    try:\n",
    "        import google.colab\n",
    "        return True\n",
    "    except ImportError:\n",
    "        return False\n",
    "import sys, os\n",
    "from glob import glob \n",
    "\n",
    "if using_colab():\n",
    "    from src.io.colab_io import GoogleDriveIO\n",
    "    # When using Google Colab, need to clone the explain_tutorial repo\n",
    "    # Otherwise, the code assumes you are running these notebooks\n",
    "    # in their original directory structure. \n",
    "    !git clone https://github.com/monte-flora/explain_tutorial\n",
    "    sys.path.append('explain_tutorial')   \n",
    "else:\n",
    "    from os.path import dirname\n",
    "    path = dirname(dirname(os.getcwd()))\n",
    "    sys.path.append(path)\n",
    "\n",
    "# src is the source directory of the explain_tutorial repo. \n",
    "from src.io.io import fetch_zenodo\n",
    "\n",
    "# Fetch the datasets and models from the zenodo archive.\n",
    "# The datasets and models are stored in the current directory.\n",
    "# It is best to move them to another directory, the \n",
    "# same directory that you'll use for the LOCAL_BASE_PATH\n",
    "# in Notebook01 and Notebook02 is a good step! \n",
    "#fetch_zenodo()\n",
    "\n",
    "# When using Google Colab, we will want to store the downloaded zenodo data \n",
    "# for future use! \n",
    "if using_colab():\n",
    "    uploader= GoogleDriveIO()\n",
    "    \n",
    "    dataset_names = ['lightning', 'road_surface', 'severe_wind']\n",
    "    dataset_paths = [f'/content/datasets/{name}_dataset.csv' for name in dataset_names]\n",
    "\n",
    "    for path, name in zip(dataset_paths, dataset_names):\n",
    "        print(f'Uploading {name, path} dataset to Google Drive...')\n",
    "        uploader.upload(path, title=f'{name} dataset')\n",
    "\n",
    "    model_paths = glob('/content/models/*')\n",
    "    for path in model_paths:\n",
    "        if 'Isotonic' not in path:\n",
    "            if 'JTTI' in path:\n",
    "                name = 'road_surface'\n",
    "            elif 'NN' in path:\n",
    "                name = 'lightning'\n",
    "            else:\n",
    "                name = 'severe_wind'\n",
    "            print(f'Uploading {name, path} model to Google Drive...')\n",
    "            uploader.upload(path, title=f'{name} model')\n",
    "            \n",
    "else:\n",
    "\n",
    "    current_dir = os.getcwd() \n",
    "    cmd = f\" cp -r {os.path.join(current_dir, 'datasets')} {os.path.join(LOCAL_BASE_PATH, 'datasets')}\"\n",
    "    print(cmd)\n",
    "    os.system(cmd)\n",
    "    \n",
    "    # If you want to remove the datasets in the current directory. I'd recommend \n",
    "    # the user manually delete the datasets and models to avoid any heartaches! \n",
    "    #cmd = f\"rm -r {os.path.join(current_dir, 'datasets')}\"\n",
    "    #print(cmd)\n",
    "    \n",
    "    if not os.path.exists(os.path.join(LOCAL_BASE_PATH, 'models')):\n",
    "        os.makedirs(os.path.join(LOCAL_BASE_PATH, 'models'), exist_ok=False)\n",
    "    \n",
    "    for model_fname in glob('*.pkl') + glob('*.joblib'):\n",
    "        new_model_path = os.path.join(LOCAL_BASE_PATH, 'models', model_fname)\n",
    "        cmd = f\"cp {model_fname} {new_model_path}\"\n",
    "        print(cmd)\n",
    "        os.system(cmd)"
   ]
  },
  {
   "cell_type": "code",
   "execution_count": null,
   "id": "0fdfdd86",
   "metadata": {
    "collapsed": true,
    "jupyter": {
     "outputs_hidden": true
    }
   },
   "outputs": [],
   "source": []
  }
 ],
 "metadata": {
  "kernelspec": {
   "display_name": "Python 3 (ipykernel)",
   "language": "python",
   "name": "python3"
  },
  "language_info": {
   "codemirror_mode": {
    "name": "ipython",
    "version": 3
   },
   "file_extension": ".py",
   "mimetype": "text/x-python",
   "name": "python",
   "nbconvert_exporter": "python",
   "pygments_lexer": "ipython3",
   "version": "3.10.14"
  }
 },
 "nbformat": 4,
 "nbformat_minor": 5
}
