{
 "cells": [
  {
   "cell_type": "markdown",
   "id": "7fd762b9",
   "metadata": {},
   "source": [
    "[![Open In Colab](https://colab.research.google.com/assets/colab-badge.svg)](http://colab.research.google.com/github/monte-flora/explain_tutorial/blob/main/src/tutorial_notebooks/Notebook00_Download_Data_and_Models.ipynb)"
   ]
  },
  {
   "cell_type": "markdown",
   "id": "e46e01e5",
   "metadata": {},
   "source": [
    "### 1. Download the Data \n",
    "\n",
    "The three datasets and pre-fit machine learning models are provided at the following [link](https://doi.org/10.5281/zenodo.8136709). The following code downloads the datasets and models and unzips them. Unfortunately, the Zenodo download can take up to 10 minutes. If you are using Google Colab, then the following code will upload the data to your local Google drive. \n",
    "\n",
    "### 2. Unzip the data \n",
    "\n",
    "This step will unzip the datasets and models, which will create directory named \"datasets\" and \"models\" that  contain CSV-format datasets and the corresponding models, respectively. This will unzip the data in the same location as where the data was downloaded. We recommend transfering the data and models to another location. You'll then use those data paths for the other notebooks to load the data and models. \n"
   ]
  },
  {
   "cell_type": "code",
   "execution_count": 1,
   "id": "cd947f1d",
   "metadata": {},
   "outputs": [
    {
     "name": "stdout",
     "output_type": "stream",
     "text": [
      "Collecting zenodo_get\n",
      "  Obtaining dependency information for zenodo_get from https://files.pythonhosted.org/packages/a0/c4/935f379e93252e0d3c4499bd0801d99e5de3545ad53f8726a326ff2e0bac/zenodo_get-1.4.0-py2.py3-none-any.whl.metadata\n",
      "  Downloading zenodo_get-1.4.0-py2.py3-none-any.whl.metadata (1.0 kB)\n",
      "Requirement already satisfied: requests in /Users/monte.flora/miniconda3/lib/python3.8/site-packages (from zenodo_get) (2.31.0)\n",
      "Collecting wget (from zenodo_get)\n",
      "  Downloading wget-3.2.zip (10 kB)\n",
      "  Preparing metadata (setup.py) ... \u001b[?25ldone\n",
      "\u001b[?25hRequirement already satisfied: charset-normalizer<4,>=2 in /Users/monte.flora/miniconda3/lib/python3.8/site-packages (from requests->zenodo_get) (2.0.4)\n",
      "Requirement already satisfied: idna<4,>=2.5 in /Users/monte.flora/miniconda3/lib/python3.8/site-packages (from requests->zenodo_get) (3.4)\n",
      "Requirement already satisfied: urllib3<3,>=1.21.1 in /Users/monte.flora/miniconda3/lib/python3.8/site-packages (from requests->zenodo_get) (2.0.4)\n",
      "Requirement already satisfied: certifi>=2017.4.17 in /Users/monte.flora/miniconda3/lib/python3.8/site-packages (from requests->zenodo_get) (2023.7.22)\n",
      "Downloading zenodo_get-1.4.0-py2.py3-none-any.whl (20 kB)\n",
      "Building wheels for collected packages: wget\n",
      "  Building wheel for wget (setup.py) ... \u001b[?25ldone\n",
      "\u001b[?25h  Created wheel for wget: filename=wget-3.2-py3-none-any.whl size=9655 sha256=e60bd75d9926ff690ac315436f1c5f9dc0277f9d1356b8518e388c1b47283ae4\n",
      "  Stored in directory: /Users/monte.flora/Library/Caches/pip/wheels/bd/a8/c3/3cf2c14a1837a4e04bd98631724e81f33f462d86a1d895fae0\n",
      "Successfully built wget\n",
      "Installing collected packages: wget, zenodo_get\n",
      "Successfully installed wget-3.2 zenodo_get-1.4.0\n",
      "Note: you may need to restart the kernel to use updated packages.\n"
     ]
    }
   ],
   "source": [
    "%pip install zenodo_get PyDrive httplib2==0.15.0"
   ]
  },
  {
   "cell_type": "code",
   "execution_count": 1,
   "id": "c7595d6b",
   "metadata": {},
   "outputs": [
    {
     "name": "stdout",
     "output_type": "stream",
     "text": [
      "/Users/monte.flora/explain_tutorial\n"
     ]
    },
    {
     "ename": "ImportError",
     "evalue": "cannot import name 'using_colab' from 'src.io.colab_io' (/Users/monte.flora/explain_tutorial/src/io/colab_io.py)",
     "output_type": "error",
     "traceback": [
      "\u001b[0;31m---------------------------------------------------------------------------\u001b[0m",
      "\u001b[0;31mImportError\u001b[0m                               Traceback (most recent call last)",
      "Cell \u001b[0;32mIn[1], line 9\u001b[0m\n\u001b[1;32m      6\u001b[0m sys\u001b[38;5;241m.\u001b[39mpath\u001b[38;5;241m.\u001b[39mappend(\u001b[38;5;124m'\u001b[39m\u001b[38;5;124mexplain_tutorial\u001b[39m\u001b[38;5;124m'\u001b[39m)\n\u001b[1;32m      8\u001b[0m \u001b[38;5;28;01mfrom\u001b[39;00m \u001b[38;5;21;01msrc\u001b[39;00m\u001b[38;5;21;01m.\u001b[39;00m\u001b[38;5;21;01mio\u001b[39;00m\u001b[38;5;21;01m.\u001b[39;00m\u001b[38;5;21;01mio\u001b[39;00m \u001b[38;5;28;01mimport\u001b[39;00m fetch_zenodo\n\u001b[0;32m----> 9\u001b[0m \u001b[38;5;28;01mfrom\u001b[39;00m \u001b[38;5;21;01msrc\u001b[39;00m\u001b[38;5;21;01m.\u001b[39;00m\u001b[38;5;21;01mio\u001b[39;00m\u001b[38;5;21;01m.\u001b[39;00m\u001b[38;5;21;01mcolab_io\u001b[39;00m \u001b[38;5;28;01mimport\u001b[39;00m using_colab\n\u001b[1;32m     11\u001b[0m \u001b[38;5;28;01mif\u001b[39;00m \u001b[38;5;28;01mTrue\u001b[39;00m:\n\u001b[1;32m     12\u001b[0m     get_ipython()\u001b[38;5;241m.\u001b[39msystem(\u001b[38;5;124m'\u001b[39m\u001b[38;5;124mgit clone https://github.com/monte-flora/explain_tutorial\u001b[39m\u001b[38;5;124m'\u001b[39m)\n",
      "\u001b[0;31mImportError\u001b[0m: cannot import name 'using_colab' from 'src.io.colab_io' (/Users/monte.flora/explain_tutorial/src/io/colab_io.py)"
     ]
    }
   ],
   "source": [
    "def using_colab():\n",
    "    try:\n",
    "        import google.colab\n",
    "        return True\n",
    "    except ImportError:\n",
    "        return False\n",
    "import sys, os\n",
    "    \n",
    "if using_colab():\n",
    "    # When using Google Colab, need to clone the explain_tutorial repo\n",
    "    # Otherwise, the code assumes you are running these notebooks\n",
    "    # in their original directory structure. \n",
    "    !git clone https://github.com/monte-flora/explain_tutorial\n",
    "    sys.path.append('explain_tutorial')   \n",
    "else:\n",
    "    from os.path import dirname\n",
    "    path = dirname(dirname(os.getcwd()))\n",
    "    sys.path.insert(0, path)\n",
    "\n",
    "from src.io.io import fetch_zenodo\n",
    "from src.io.colab_io import GoogleDriveIO\n",
    "\n",
    "#fetch_zenodo()\n",
    "\n",
    "# When using Google Colab, we will want to store the downloaded zenodo data \n",
    "# for future use! \n",
    "if using_colab():\n",
    "    uploader= GoogleDriveIO()\n",
    "    \n",
    "    dataset_names = ['lightning', 'road_surface', 'severe_wind']\n",
    "    dataset_paths = [f'/content/datasets/{name}_dataset.csv' for name in dataset_names]\n",
    "\n",
    "    for path, name in zip(dataset_paths, dataset_names):\n",
    "        print(f'Uploading {name, path} dataset to Google Drive...')\n",
    "        uploader.upload(path, title=f'{name} dataset')\n",
    "\n",
    "    model_paths = glob('/content/models/*')\n",
    "    for path in model_paths:\n",
    "        if 'Isotonic' not in path:\n",
    "            if 'JTTI' in path:\n",
    "                name = 'road_surface'\n",
    "            elif 'NN' in path:\n",
    "                name = 'lightning'\n",
    "            else:\n",
    "                name = 'severe_wind'\n",
    "            print(f'Uploading {name, path} model to Google Drive...')\n",
    "            uploader.upload(path, title=f'{name} model')\n"
   ]
  }
 ],
 "metadata": {
  "kernelspec": {
   "display_name": "Python 3 (ipykernel)",
   "language": "python",
   "name": "python3"
  },
  "language_info": {
   "codemirror_mode": {
    "name": "ipython",
    "version": 3
   },
   "file_extension": ".py",
   "mimetype": "text/x-python",
   "name": "python",
   "nbconvert_exporter": "python",
   "pygments_lexer": "ipython3",
   "version": "3.8.17"
  }
 },
 "nbformat": 4,
 "nbformat_minor": 5
}
