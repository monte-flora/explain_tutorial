{
 "cells": [
  {
   "cell_type": "markdown",
   "id": "7fd762b9",
   "metadata": {},
   "source": [
    "[![Open In Colab](https://colab.research.google.com/assets/colab-badge.svg)](http://colab.research.google.com/github/monte-flora/explain_tutorial/blob/main/src/tutorial_notebooks/Notebook00_Download_Data_and_Models.ipynb)"
   ]
  },
  {
   "cell_type": "markdown",
   "id": "e46e01e5",
   "metadata": {},
   "source": [
    "### 1. Download the Data \n",
    "\n",
    "The three datasets and pre-fit machine learning models are provided at the following [link](https://doi.org/10.5281/zenodo.8136709). The following code downloads the datasets and models and unzips them. \n",
    "\n",
    "### 2. Unzip the data \n",
    "\n",
    "This step will unzip the datasets and models, which will create directory named \"datasets\" and \"models\" that  contain CSV-format datasets and the corresponding models, respectively. This will unzip the data in the same location as where the data was downloaded. We recommend transfering the data and models to another location. You'll then use those data paths for the other notebooks to load the data and models. \n"
   ]
  },
  {
   "cell_type": "code",
   "execution_count": 1,
   "id": "cd947f1d",
   "metadata": {},
   "outputs": [
    {
     "name": "stdout",
     "output_type": "stream",
     "text": [
      "Collecting zenodo_get\n",
      "  Obtaining dependency information for zenodo_get from https://files.pythonhosted.org/packages/a0/c4/935f379e93252e0d3c4499bd0801d99e5de3545ad53f8726a326ff2e0bac/zenodo_get-1.4.0-py2.py3-none-any.whl.metadata\n",
      "  Downloading zenodo_get-1.4.0-py2.py3-none-any.whl.metadata (1.0 kB)\n",
      "Requirement already satisfied: requests in /Users/monte.flora/miniconda3/lib/python3.8/site-packages (from zenodo_get) (2.31.0)\n",
      "Collecting wget (from zenodo_get)\n",
      "  Downloading wget-3.2.zip (10 kB)\n",
      "  Preparing metadata (setup.py) ... \u001b[?25ldone\n",
      "\u001b[?25hRequirement already satisfied: charset-normalizer<4,>=2 in /Users/monte.flora/miniconda3/lib/python3.8/site-packages (from requests->zenodo_get) (2.0.4)\n",
      "Requirement already satisfied: idna<4,>=2.5 in /Users/monte.flora/miniconda3/lib/python3.8/site-packages (from requests->zenodo_get) (3.4)\n",
      "Requirement already satisfied: urllib3<3,>=1.21.1 in /Users/monte.flora/miniconda3/lib/python3.8/site-packages (from requests->zenodo_get) (2.0.4)\n",
      "Requirement already satisfied: certifi>=2017.4.17 in /Users/monte.flora/miniconda3/lib/python3.8/site-packages (from requests->zenodo_get) (2023.7.22)\n",
      "Downloading zenodo_get-1.4.0-py2.py3-none-any.whl (20 kB)\n",
      "Building wheels for collected packages: wget\n",
      "  Building wheel for wget (setup.py) ... \u001b[?25ldone\n",
      "\u001b[?25h  Created wheel for wget: filename=wget-3.2-py3-none-any.whl size=9655 sha256=e60bd75d9926ff690ac315436f1c5f9dc0277f9d1356b8518e388c1b47283ae4\n",
      "  Stored in directory: /Users/monte.flora/Library/Caches/pip/wheels/bd/a8/c3/3cf2c14a1837a4e04bd98631724e81f33f462d86a1d895fae0\n",
      "Successfully built wget\n",
      "Installing collected packages: wget, zenodo_get\n",
      "Successfully installed wget-3.2 zenodo_get-1.4.0\n",
      "Note: you may need to restart the kernel to use updated packages.\n"
     ]
    }
   ],
   "source": [
    "%pip install zenodo_get"
   ]
  },
  {
   "cell_type": "code",
   "execution_count": 6,
   "id": "c7595d6b",
   "metadata": {},
   "outputs": [],
   "source": [
    "import subprocess\n",
    "import os \n",
    "import zipfile\n",
    "\n",
    "# The data fetching from zenodo can make 10 minutes or more. \n",
    "\n",
    "def fetch(download_repo=False):\n",
    "    # Fetch the data and models from the Zenodo DOI. \n",
    "    print('Fetching data from Zenodo...')\n",
    "    command = \"python -m zenodo_get https://doi.org/10.5281/zenodo.8184201\"   \n",
    "    result = subprocess.run(command, shell=True)\n",
    "    \n",
    "    # Path to the ZIP file\n",
    "    print('Unzipping the files...')\n",
    "    zip_file_paths = [\"models.zip\", \"datasets.zip\"]\n",
    "    for path in zip_file_paths: \n",
    "    \n",
    "        # Get the directory where the ZIP file is located\n",
    "        extracted_dir = os.path.dirname(path)\n",
    "\n",
    "        # Open the ZIP file and extract its contents\n",
    "        with zipfile.ZipFile(path, 'r') as zip_ref:\n",
    "            zip_ref.extractall(extracted_dir)\n",
    "\n",
    "    print('ZIP file extracted successfully.')\n",
    "    \n",
    "    if download_repo:\n",
    "        command = \"git clone https://github.com/monte-flora/explain_tutorial\"   \n",
    "        result = subprocess.run(command, shell=True)\n",
    "    \n",
    "    # Move all the ML models to a newly created \"models\" directory. \n",
    "    if not os.path.exists(\"models\"):\n",
    "        os.mkdir ('models')\n",
    "\n",
    "    subprocess.run(\"mv *.joblib models/\", shell=True)\n",
    "    subprocess.run(\"mv *.pkl models/\", shell=True)\n",
    "    \n",
    "    "
   ]
  },
  {
   "cell_type": "code",
   "execution_count": 7,
   "id": "39412dd4",
   "metadata": {},
   "outputs": [
    {
     "name": "stdout",
     "output_type": "stream",
     "text": [
      "Fetching data from Zenodo...\n",
      "Unzipping the files...\n",
      "ZIP file extracted successfully.\n"
     ]
    }
   ],
   "source": [
    "fetch()"
   ]
  }
 ],
 "metadata": {
  "kernelspec": {
   "display_name": "Python 3 (ipykernel)",
   "language": "python",
   "name": "python3"
  },
  "language_info": {
   "codemirror_mode": {
    "name": "ipython",
    "version": 3
   },
   "file_extension": ".py",
   "mimetype": "text/x-python",
   "name": "python",
   "nbconvert_exporter": "python",
   "pygments_lexer": "ipython3",
   "version": "3.8.17"
  }
 },
 "nbformat": 4,
 "nbformat_minor": 5
}
