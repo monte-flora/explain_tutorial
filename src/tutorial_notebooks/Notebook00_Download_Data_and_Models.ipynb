{
 "cells": [
  {
   "cell_type": "markdown",
   "id": "7fd762b9",
   "metadata": {},
   "source": [
    "[![Open In Colab](https://colab.research.google.com/assets/colab-badge.svg)](http://colab.research.google.com/github/monte-flora/explain_tutorial/blob/main/src/tutorial_notebooks/Notebook00_Download_Data_and_Models.ipynb)"
   ]
  },
  {
   "cell_type": "markdown",
   "id": "e46e01e5",
   "metadata": {},
   "source": [
    "### 1. Download the Data \n",
    "\n",
    "The three datasets and pre-fit machine learning models are provided at the following [link](https://doi.org/10.5281/zenodo.8136709). The following code downloads the datasets and models and unzips them. Unfortunately, the Zenodo download can take up to 10 minutes. If you are using Google Colab, then the following code will upload the data to your local Google drive. \n",
    "\n",
    "### 2. Unzip the data \n",
    "\n",
    "This step will unzip the datasets and models, which will create directory named \"datasets\" and \"models\" that  contain CSV-format datasets and the corresponding models, respectively. This will unzip the data in the same location as where the data was downloaded. We recommend transfering the data and models to another location. You'll then use those data paths for the other notebooks to load the data and models. \n"
   ]
  },
  {
   "cell_type": "code",
   "execution_count": 1,
   "id": "cd947f1d",
   "metadata": {},
   "outputs": [],
   "source": [
    "%pip install zenodo_get PyDrive httplib2==0.15.0"
   ]
  },
  {
   "cell_type": "code",
   "execution_count": 2,
   "id": "c7595d6b",
   "metadata": {},
   "outputs": [],
   "source": [
    "def using_colab():\n",
    "    try:\n",
    "        import google.colab\n",
    "        return True\n",
    "    except ImportError:\n",
    "        return False\n",
    "import sys, os\n",
    "from glob import glob \n",
    "    \n",
    "if using_colab():\n",
    "    # When using Google Colab, need to clone the explain_tutorial repo\n",
    "    # Otherwise, the code assumes you are running these notebooks\n",
    "    # in their original directory structure. \n",
    "    !git clone https://github.com/monte-flora/explain_tutorial\n",
    "    sys.path.append('explain_tutorial')   \n",
    "else:\n",
    "    from os.path import dirname\n",
    "    path = dirname(dirname(os.getcwd()))\n",
    "    sys.path.append(path)\n",
    "\n",
    "# src is the source directory of the explain_tutorial repo. \n",
    "from src.io.io import fetch_zenodo\n",
    "from src.io.colab_io import GoogleDriveIO\n",
    "\n",
    "fetch_zenodo()\n",
    "\n",
    "# When using Google Colab, we will want to store the downloaded zenodo data \n",
    "# for future use! \n",
    "if using_colab():\n",
    "    uploader= GoogleDriveIO()\n",
    "    \n",
    "    dataset_names = ['lightning', 'road_surface', 'severe_wind']\n",
    "    dataset_paths = [f'/content/datasets/{name}_dataset.csv' for name in dataset_names]\n",
    "\n",
    "    for path, name in zip(dataset_paths, dataset_names):\n",
    "        print(f'Uploading {name, path} dataset to Google Drive...')\n",
    "        uploader.upload(path, title=f'{name} dataset')\n",
    "\n",
    "    model_paths = glob('/content/models/*')\n",
    "    for path in model_paths:\n",
    "        if 'Isotonic' not in path:\n",
    "            if 'JTTI' in path:\n",
    "                name = 'road_surface'\n",
    "            elif 'NN' in path:\n",
    "                name = 'lightning'\n",
    "            else:\n",
    "                name = 'severe_wind'\n",
    "            print(f'Uploading {name, path} model to Google Drive...')\n",
    "            uploader.upload(path, title=f'{name} model')"
   ]
  }
 ],
 "metadata": {
  "kernelspec": {
   "display_name": "Python 3 (ipykernel)",
   "language": "python",
   "name": "python3"
  },
  "language_info": {
   "codemirror_mode": {
    "name": "ipython",
    "version": 3
   },
   "file_extension": ".py",
   "mimetype": "text/x-python",
   "name": "python",
   "nbconvert_exporter": "python",
   "pygments_lexer": "ipython3",
   "version": "3.8.17"
  }
 },
 "nbformat": 4,
 "nbformat_minor": 5
}
